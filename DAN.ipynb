{
  "nbformat": 4,
  "nbformat_minor": 0,
  "metadata": {
    "colab": {
      "provenance": [],
      "authorship_tag": "ABX9TyOzs0gHoLUV6KPR5DziDwDv",
      "include_colab_link": true
    },
    "kernelspec": {
      "name": "python3",
      "display_name": "Python 3"
    },
    "language_info": {
      "name": "python"
    },
    "accelerator": "GPU",
    "gpuClass": "standard"
  },
  "cells": [
    {
      "cell_type": "markdown",
      "metadata": {
        "id": "view-in-github",
        "colab_type": "text"
      },
      "source": [
        "<a href=\"https://colab.research.google.com/github/Solcito25/PFC2---ACMC-Plus-Exp/blob/main/DAN.ipynb\" target=\"_parent\"><img src=\"https://colab.research.google.com/assets/colab-badge.svg\" alt=\"Open In Colab\"/></a>"
      ]
    },
    {
      "cell_type": "code",
      "execution_count": null,
      "metadata": {
        "colab": {
          "base_uri": "https://localhost:8080/"
        },
        "id": "Ketengq1ofij",
        "outputId": "08110cfe-e426-4cba-baf3-9dd4d1330829"
      },
      "outputs": [
        {
          "output_type": "stream",
          "name": "stdout",
          "text": [
            "Mounted at /content/gdrive\n"
          ]
        }
      ],
      "source": [
        "from google.colab import drive\n",
        "drive.mount(\"/content/gdrive\")"
      ]
    },
    {
      "cell_type": "code",
      "source": [
        "\n",
        "%cd /content/gdrive/MyDrive/DAN/"
      ],
      "metadata": {
        "colab": {
          "base_uri": "https://localhost:8080/"
        },
        "id": "cgaku-d7p35j",
        "outputId": "ed2ae5e5-5062-4263-b754-dd1bde1fcf55"
      },
      "execution_count": null,
      "outputs": [
        {
          "output_type": "stream",
          "name": "stdout",
          "text": [
            "/content/gdrive/MyDrive/DAN\n"
          ]
        }
      ]
    },
    {
      "cell_type": "code",
      "source": [
        "!pip install torch==1.8.0+cu111 torchvision==0.9.0+cu111 torchaudio==0.8.0 -f https://download.pytorch.org/whl/torch_stable.html"
      ],
      "metadata": {
        "colab": {
          "base_uri": "https://localhost:8080/"
        },
        "id": "M5h_MBlHqC5b",
        "outputId": "5de1f624-33f7-48cb-86ac-b2c54ef85a98"
      },
      "execution_count": null,
      "outputs": [
        {
          "output_type": "stream",
          "name": "stdout",
          "text": [
            "Looking in indexes: https://pypi.org/simple, https://us-python.pkg.dev/colab-wheels/public/simple/\n",
            "Looking in links: https://download.pytorch.org/whl/torch_stable.html\n",
            "Collecting torch==1.8.0+cu111\n",
            "  Downloading https://download.pytorch.org/whl/cu111/torch-1.8.0%2Bcu111-cp39-cp39-linux_x86_64.whl (1982.3 MB)\n",
            "\u001b[2K     \u001b[90m━━━━━━━━━━━━━━━━━━━━━━━━━━━━━━━━━━━━━━━━\u001b[0m \u001b[32m2.0/2.0 GB\u001b[0m \u001b[31m865.4 kB/s\u001b[0m eta \u001b[36m0:00:00\u001b[0m\n",
            "\u001b[?25hCollecting torchvision==0.9.0+cu111\n",
            "  Downloading https://download.pytorch.org/whl/cu111/torchvision-0.9.0%2Bcu111-cp39-cp39-linux_x86_64.whl (17.6 MB)\n",
            "\u001b[2K     \u001b[90m━━━━━━━━━━━━━━━━━━━━━━━━━━━━━━━━━━━━━━━━\u001b[0m \u001b[32m17.6/17.6 MB\u001b[0m \u001b[31m56.8 MB/s\u001b[0m eta \u001b[36m0:00:00\u001b[0m\n",
            "\u001b[?25hCollecting torchaudio==0.8.0\n",
            "  Downloading torchaudio-0.8.0-cp39-cp39-manylinux1_x86_64.whl (1.9 MB)\n",
            "\u001b[2K     \u001b[90m━━━━━━━━━━━━━━━━━━━━━━━━━━━━━━━━━━━━━━━━\u001b[0m \u001b[32m1.9/1.9 MB\u001b[0m \u001b[31m77.4 MB/s\u001b[0m eta \u001b[36m0:00:00\u001b[0m\n",
            "\u001b[?25hRequirement already satisfied: typing-extensions in /usr/local/lib/python3.9/dist-packages (from torch==1.8.0+cu111) (4.5.0)\n",
            "Requirement already satisfied: numpy in /usr/local/lib/python3.9/dist-packages (from torch==1.8.0+cu111) (1.22.4)\n",
            "Requirement already satisfied: pillow>=4.1.1 in /usr/local/lib/python3.9/dist-packages (from torchvision==0.9.0+cu111) (8.4.0)\n",
            "Installing collected packages: torch, torchvision, torchaudio\n",
            "  Attempting uninstall: torch\n",
            "    Found existing installation: torch 2.0.0+cu118\n",
            "    Uninstalling torch-2.0.0+cu118:\n",
            "      Successfully uninstalled torch-2.0.0+cu118\n",
            "  Attempting uninstall: torchvision\n",
            "    Found existing installation: torchvision 0.15.1+cu118\n",
            "    Uninstalling torchvision-0.15.1+cu118:\n",
            "      Successfully uninstalled torchvision-0.15.1+cu118\n",
            "  Attempting uninstall: torchaudio\n",
            "    Found existing installation: torchaudio 2.0.1+cu118\n",
            "    Uninstalling torchaudio-2.0.1+cu118:\n",
            "      Successfully uninstalled torchaudio-2.0.1+cu118\n",
            "\u001b[31mERROR: pip's dependency resolver does not currently take into account all the packages that are installed. This behaviour is the source of the following dependency conflicts.\n",
            "torchtext 0.15.1 requires torch==2.0.0, but you have torch 1.8.0+cu111 which is incompatible.\n",
            "torchdata 0.6.0 requires torch==2.0.0, but you have torch 1.8.0+cu111 which is incompatible.\u001b[0m\u001b[31m\n",
            "\u001b[0mSuccessfully installed torch-1.8.0+cu111 torchaudio-0.8.0 torchvision-0.9.0+cu111\n"
          ]
        }
      ]
    },
    {
      "cell_type": "code",
      "source": [
        "!CUDA_VISIBLE_DEVICES=0 python rafdb.py"
      ],
      "metadata": {
        "colab": {
          "base_uri": "https://localhost:8080/"
        },
        "id": "hlrorqTUq5Q6",
        "outputId": "32eedb96-de2e-4325-982d-1d8a27411f6b"
      },
      "execution_count": null,
      "outputs": [
        {
          "output_type": "stream",
          "name": "stdout",
          "text": [
            "Whole train set size: 12271\n",
            "Validation set size: 3068\n",
            "[Epoch 1] Training accuracy: 0.6296. Loss: 2.176. LR 0.100000\n",
            "[Epoch 1] Validation accuracy:0.7881. bacc:0.5962. Loss:1.565\n",
            "best_acc:0.7881\n",
            "[Epoch 2] Training accuracy: 0.7924. Loss: 1.490. LR 0.100000\n",
            "[Epoch 2] Validation accuracy:0.8217. bacc:0.6841. Loss:1.340\n",
            "best_acc:0.8217\n",
            "[Epoch 3] Training accuracy: 0.8297. Loss: 1.271. LR 0.100000\n",
            "[Epoch 3] Validation accuracy:0.8246. bacc:0.7369. Loss:1.226\n",
            "best_acc:0.8246\n",
            "[Epoch 4] Training accuracy: 0.8554. Loss: 1.123. LR 0.100000\n",
            "[Epoch 4] Validation accuracy:0.8618. bacc:0.7623. Loss:1.090\n",
            "best_acc:0.8618\n",
            "[Epoch 5] Training accuracy: 0.8677. Loss: 1.019. LR 0.100000\n",
            "[Epoch 5] Validation accuracy:0.8523. bacc:0.7538. Loss:1.050\n",
            "best_acc:0.8618\n",
            "[Epoch 6] Training accuracy: 0.8851. Loss: 0.940. LR 0.100000\n",
            "[Epoch 6] Validation accuracy:0.8507. bacc:0.7587. Loss:1.048\n",
            "best_acc:0.8618\n",
            "[Epoch 7] Training accuracy: 0.8984. Loss: 0.858. LR 0.100000\n",
            "[Epoch 7] Validation accuracy:0.8579. bacc:0.7821. Loss:0.977\n",
            "best_acc:0.8618\n",
            "[Epoch 8] Training accuracy: 0.9057. Loss: 0.804. LR 0.100000\n",
            "[Epoch 8] Validation accuracy:0.8611. bacc:0.7963. Loss:0.968\n",
            "best_acc:0.8618\n",
            "[Epoch 9] Training accuracy: 0.9121. Loss: 0.758. LR 0.100000\n",
            "[Epoch 9] Validation accuracy:0.8168. bacc:0.7088. Loss:1.046\n",
            "best_acc:0.8618\n",
            "[Epoch 10] Training accuracy: 0.9232. Loss: 0.692. LR 0.100000\n",
            "[Epoch 10] Validation accuracy:0.8449. bacc:0.7748. Loss:0.976\n",
            "best_acc:0.8618\n",
            "[Epoch 11] Training accuracy: 0.9408. Loss: 0.624. LR 0.010000\n",
            "[Epoch 11] Validation accuracy:0.8830. bacc:0.8065. Loss:0.817\n",
            "best_acc:0.883\n",
            "[Epoch 12] Training accuracy: 0.9498. Loss: 0.588. LR 0.010000\n",
            "[Epoch 12] Validation accuracy:0.8866. bacc:0.8111. Loss:0.810\n",
            "best_acc:0.8866\n",
            "[Epoch 13] Training accuracy: 0.9511. Loss: 0.585. LR 0.010000\n",
            "[Epoch 13] Validation accuracy:0.8827. bacc:0.8071. Loss:0.812\n",
            "best_acc:0.8866\n",
            "[Epoch 14] Training accuracy: 0.9562. Loss: 0.560. LR 0.010000\n",
            "[Epoch 14] Validation accuracy:0.8787. bacc:0.7958. Loss:0.814\n",
            "best_acc:0.8866\n",
            "[Epoch 15] Training accuracy: 0.9598. Loss: 0.550. LR 0.010000\n",
            "[Epoch 15] Validation accuracy:0.8869. bacc:0.8214. Loss:0.800\n",
            "best_acc:0.8869\n",
            "[Epoch 16] Training accuracy: 0.9571. Loss: 0.556. LR 0.010000\n",
            "[Epoch 16] Validation accuracy:0.8882. bacc:0.8126. Loss:0.802\n",
            "best_acc:0.8882\n",
            "[Epoch 17] Training accuracy: 0.9628. Loss: 0.536. LR 0.010000\n",
            "[Epoch 17] Validation accuracy:0.8843. bacc:0.8143. Loss:0.802\n",
            "best_acc:0.8882\n",
            "[Epoch 18] Training accuracy: 0.9646. Loss: 0.529. LR 0.010000\n",
            "[Epoch 18] Validation accuracy:0.8836. bacc:0.8106. Loss:0.803\n",
            "best_acc:0.8882\n",
            "[Epoch 19] Training accuracy: 0.9641. Loss: 0.523. LR 0.010000\n",
            "[Epoch 19] Validation accuracy:0.8846. bacc:0.8034. Loss:0.799\n",
            "best_acc:0.8882\n",
            "[Epoch 20] Training accuracy: 0.9641. Loss: 0.518. LR 0.010000\n",
            "[Epoch 20] Validation accuracy:0.8859. bacc:0.8133. Loss:0.793\n",
            "best_acc:0.8882\n",
            "[Epoch 21] Training accuracy: 0.9694. Loss: 0.509. LR 0.001000\n",
            "[Epoch 21] Validation accuracy:0.8849. bacc:0.8171. Loss:0.796\n",
            "best_acc:0.8882\n",
            "[Epoch 22] Training accuracy: 0.9671. Loss: 0.512. LR 0.001000\n",
            "[Epoch 22] Validation accuracy:0.8869. bacc:0.8085. Loss:0.795\n",
            "best_acc:0.8882\n",
            "[Epoch 23] Training accuracy: 0.9676. Loss: 0.512. LR 0.001000\n",
            "[Epoch 23] Validation accuracy:0.8830. bacc:0.8148. Loss:0.794\n",
            "best_acc:0.8882\n",
            "[Epoch 24] Training accuracy: 0.9694. Loss: 0.508. LR 0.001000\n",
            "[Epoch 24] Validation accuracy:0.8869. bacc:0.8190. Loss:0.791\n",
            "best_acc:0.8882\n",
            "[Epoch 25] Training accuracy: 0.9678. Loss: 0.505. LR 0.001000\n",
            "[Epoch 25] Validation accuracy:0.8856. bacc:0.8160. Loss:0.790\n",
            "best_acc:0.8882\n",
            "[Epoch 26] Training accuracy: 0.9672. Loss: 0.511. LR 0.001000\n",
            "[Epoch 26] Validation accuracy:0.8872. bacc:0.8175. Loss:0.790\n",
            "best_acc:0.8882\n",
            "[Epoch 27] Training accuracy: 0.9704. Loss: 0.501. LR 0.001000\n",
            "[Epoch 27] Validation accuracy:0.8872. bacc:0.8144. Loss:0.789\n",
            "best_acc:0.8882\n",
            "[Epoch 28] Training accuracy: 0.9698. Loss: 0.500. LR 0.001000\n",
            "[Epoch 28] Validation accuracy:0.8869. bacc:0.8123. Loss:0.790\n",
            "best_acc:0.8882\n",
            "[Epoch 29] Training accuracy: 0.9672. Loss: 0.508. LR 0.001000\n",
            "[Epoch 29] Validation accuracy:0.8866. bacc:0.8145. Loss:0.789\n",
            "best_acc:0.8882\n",
            "[Epoch 30] Training accuracy: 0.9692. Loss: 0.505. LR 0.001000\n",
            "[Epoch 30] Validation accuracy:0.8879. bacc:0.8098. Loss:0.787\n",
            "best_acc:0.8882\n",
            "[Epoch 31] Training accuracy: 0.9664. Loss: 0.506. LR 0.000100\n",
            "[Epoch 31] Validation accuracy:0.8840. bacc:0.8090. Loss:0.789\n",
            "best_acc:0.8882\n",
            "[Epoch 32] Training accuracy: 0.9663. Loss: 0.507. LR 0.000100\n",
            "[Epoch 32] Validation accuracy:0.8853. bacc:0.8127. Loss:0.791\n",
            "best_acc:0.8882\n",
            "[Epoch 33] Training accuracy: 0.9673. Loss: 0.506. LR 0.000100\n",
            "[Epoch 33] Validation accuracy:0.8866. bacc:0.8107. Loss:0.788\n",
            "best_acc:0.8882\n",
            "[Epoch 34] Training accuracy: 0.9646. Loss: 0.513. LR 0.000100\n",
            "[Epoch 34] Validation accuracy:0.8872. bacc:0.8134. Loss:0.790\n",
            "best_acc:0.8882\n",
            "[Epoch 35] Training accuracy: 0.9696. Loss: 0.502. LR 0.000100\n",
            "[Epoch 35] Validation accuracy:0.8872. bacc:0.8134. Loss:0.790\n",
            "best_acc:0.8882\n",
            "[Epoch 36] Training accuracy: 0.9686. Loss: 0.506. LR 0.000100\n",
            "[Epoch 36] Validation accuracy:0.8866. bacc:0.8116. Loss:0.789\n",
            "best_acc:0.8882\n",
            "[Epoch 37] Training accuracy: 0.9697. Loss: 0.501. LR 0.000100\n",
            "[Epoch 37] Validation accuracy:0.8866. bacc:0.8196. Loss:0.791\n",
            "best_acc:0.8882\n",
            "[Epoch 38] Training accuracy: 0.9722. Loss: 0.494. LR 0.000100\n",
            "[Epoch 38] Validation accuracy:0.8856. bacc:0.8131. Loss:0.789\n",
            "best_acc:0.8882\n",
            "[Epoch 39] Training accuracy: 0.9678. Loss: 0.503. LR 0.000100\n",
            "[Epoch 39] Validation accuracy:0.8872. bacc:0.8159. Loss:0.790\n",
            "best_acc:0.8882\n",
            "[Epoch 40] Training accuracy: 0.9681. Loss: 0.504. LR 0.000100\n",
            "[Epoch 40] Validation accuracy:0.8866. bacc:0.8123. Loss:0.786\n",
            "best_acc:0.8882\n",
            "100% 40/40 [1:27:14<00:00, 130.86s/it]\n"
          ]
        }
      ]
    }
  ]
}