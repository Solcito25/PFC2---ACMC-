{
  "cells": [
    {
      "cell_type": "markdown",
      "metadata": {
        "id": "view-in-github",
        "colab_type": "text"
      },
      "source": [
        "<a href=\"https://colab.research.google.com/github/Solcito25/PFC2---ACMC-Plus-Exp/blob/main/DAN50.ipynb\" target=\"_parent\"><img src=\"https://colab.research.google.com/assets/colab-badge.svg\" alt=\"Open In Colab\"/></a>"
      ]
    },
    {
      "cell_type": "code",
      "execution_count": null,
      "metadata": {
        "id": "Ketengq1ofij",
        "colab": {
          "base_uri": "https://localhost:8080/"
        },
        "outputId": "7f624d4b-a99e-45f3-8d78-22506a7fc996"
      },
      "outputs": [
        {
          "output_type": "stream",
          "name": "stdout",
          "text": [
            "Mounted at /content/gdrive\n"
          ]
        }
      ],
      "source": [
        "from google.colab import drive\n",
        "drive.mount(\"/content/gdrive\")"
      ]
    },
    {
      "cell_type": "code",
      "execution_count": null,
      "metadata": {
        "colab": {
          "base_uri": "https://localhost:8080/"
        },
        "id": "cgaku-d7p35j",
        "outputId": "45dd33e4-3125-41cf-dbd2-6b5f43b83d93"
      },
      "outputs": [
        {
          "output_type": "stream",
          "name": "stdout",
          "text": [
            "/content/gdrive/MyDrive/DAN50\n"
          ]
        }
      ],
      "source": [
        "%cd /content/gdrive/MyDrive/DAN50/"
      ]
    },
    {
      "cell_type": "code",
      "execution_count": null,
      "metadata": {
        "colab": {
          "base_uri": "https://localhost:8080/"
        },
        "id": "M5h_MBlHqC5b",
        "outputId": "4aef4048-b841-4274-de0a-5c3f59589982"
      },
      "outputs": [
        {
          "output_type": "stream",
          "name": "stdout",
          "text": [
            "Looking in indexes: https://pypi.org/simple, https://us-python.pkg.dev/colab-wheels/public/simple/\n",
            "Looking in links: https://download.pytorch.org/whl/torch_stable.html\n",
            "\u001b[31mERROR: Could not find a version that satisfies the requirement torch==1.8.0+cu111 (from versions: 1.11.0, 1.11.0+cpu, 1.11.0+cu102, 1.11.0+cu113, 1.11.0+cu115, 1.11.0+rocm4.3.1, 1.11.0+rocm4.5.2, 1.12.0, 1.12.0+cpu, 1.12.0+cu102, 1.12.0+cu113, 1.12.0+cu116, 1.12.0+rocm5.0, 1.12.0+rocm5.1.1, 1.12.1, 1.12.1+cpu, 1.12.1+cu102, 1.12.1+cu113, 1.12.1+cu116, 1.12.1+rocm5.0, 1.12.1+rocm5.1.1, 1.13.0, 1.13.0+cpu, 1.13.0+cu116, 1.13.0+cu117, 1.13.0+cu117.with.pypi.cudnn, 1.13.0+rocm5.1.1, 1.13.0+rocm5.2, 1.13.1, 1.13.1+cpu, 1.13.1+cu116, 1.13.1+cu117, 1.13.1+cu117.with.pypi.cudnn, 1.13.1+rocm5.1.1, 1.13.1+rocm5.2, 2.0.0, 2.0.0+cpu, 2.0.0+cpu.cxx11.abi, 2.0.0+cu117, 2.0.0+cu117.with.pypi.cudnn, 2.0.0+cu118, 2.0.0+rocm5.3, 2.0.0+rocm5.4.2, 2.0.1, 2.0.1+cpu, 2.0.1+cpu.cxx11.abi, 2.0.1+cu117, 2.0.1+cu117.with.pypi.cudnn, 2.0.1+cu118, 2.0.1+rocm5.3, 2.0.1+rocm5.4.2)\u001b[0m\u001b[31m\n",
            "\u001b[0m\u001b[31mERROR: No matching distribution found for torch==1.8.0+cu111\u001b[0m\u001b[31m\n",
            "\u001b[0m"
          ]
        }
      ],
      "source": [
        "!pip install torch==1.8.0+cu111 torchvision==0.9.0+cu111 torchaudio==0.8.0 -f https://download.pytorch.org/whl/torch_stable.html"
      ]
    },
    {
      "cell_type": "code",
      "execution_count": null,
      "metadata": {
        "colab": {
          "base_uri": "https://localhost:8080/"
        },
        "id": "hlrorqTUq5Q6",
        "outputId": "0c570835-7e1c-4a79-9148-56e72478139c"
      },
      "outputs": [
        {
          "output_type": "stream",
          "name": "stdout",
          "text": [
            "Tamaño de los pesos pre-entrenados:\n",
            "torch.Size([1000, 2048])\n",
            "torch.Size([1000])\n",
            "Tamaño de la capa fc del modelo:\n",
            "torch.Size([7, 2048])\n",
            "torch.Size([7])\n",
            "Whole train set size: 12271\n",
            "Validation set size: 3068\n",
            "[Epoch 1] Training accuracy: 0.6356. Loss: 2.535. LR 0.001000\n",
            "[Epoch 1] Validation accuracy:0.7601. bacc:0.6689. Loss:1.800\n",
            "best_acc:0.7601\n",
            "[Epoch 2] Training accuracy: 0.7794. Loss: 1.715. LR 0.001000\n",
            "[Epoch 2] Validation accuracy:0.8380. bacc:0.7363. Loss:1.492\n",
            "best_acc:0.838\n",
            "[Epoch 3] Training accuracy: 0.8251. Loss: 1.504. LR 0.001000\n",
            "[Epoch 3] Validation accuracy:0.8207. bacc:0.7669. Loss:1.452\n",
            "best_acc:0.838\n",
            "[Epoch 4] Training accuracy: 0.8421. Loss: 1.391. LR 0.001000\n",
            "[Epoch 4] Validation accuracy:0.8537. bacc:0.7903. Loss:1.318\n",
            "best_acc:0.8537\n",
            "[Epoch 5] Training accuracy: 0.8616. Loss: 1.294. LR 0.001000\n",
            "[Epoch 5] Validation accuracy:0.8579. bacc:0.7564. Loss:1.252\n",
            "best_acc:0.8579\n",
            "[Epoch 6] Training accuracy: 0.8752. Loss: 1.224. LR 0.001000\n",
            "[Epoch 6] Validation accuracy:0.8523. bacc:0.7763. Loss:1.258\n",
            "best_acc:0.8579\n",
            "[Epoch 7] Training accuracy: 0.8940. Loss: 1.142. LR 0.001000\n",
            "[Epoch 7] Validation accuracy:0.8504. bacc:0.7478. Loss:1.214\n",
            "best_acc:0.8579\n",
            "[Epoch 8] Training accuracy: 0.8971. Loss: 1.108. LR 0.001000\n",
            "[Epoch 8] Validation accuracy:0.8347. bacc:0.7531. Loss:1.255\n",
            "best_acc:0.8579\n",
            "[Epoch 9] Training accuracy: 0.9016. Loss: 1.068. LR 0.001000\n",
            "[Epoch 9] Validation accuracy:0.8670. bacc:0.8018. Loss:1.164\n",
            "best_acc:0.867\n",
            "[Epoch 10] Training accuracy: 0.9108. Loss: 1.024. LR 0.001000\n",
            "[Epoch 10] Validation accuracy:0.8530. bacc:0.7922. Loss:1.190\n",
            "best_acc:0.867\n",
            "[Epoch 11] Training accuracy: 0.9345. Loss: 0.946. LR 0.000100\n",
            "[Epoch 11] Validation accuracy:0.8801. bacc:0.8047. Loss:1.091\n",
            "best_acc:0.8801\n",
            "[Epoch 12] Training accuracy: 0.9424. Loss: 0.922. LR 0.000100\n",
            "[Epoch 12] Validation accuracy:0.8804. bacc:0.8059. Loss:1.083\n",
            "best_acc:0.8804\n",
            "[Epoch 13] Training accuracy: 0.9475. Loss: 0.901. LR 0.000100\n",
            "[Epoch 13] Validation accuracy:0.8804. bacc:0.8054. Loss:1.081\n",
            "best_acc:0.8804\n",
            "[Epoch 14] Training accuracy: 0.9553. Loss: 0.884. LR 0.000100\n",
            "[Epoch 14] Validation accuracy:0.8820. bacc:0.8063. Loss:1.078\n",
            "best_acc:0.882\n",
            "[Epoch 15] Training accuracy: 0.9535. Loss: 0.881. LR 0.000100\n",
            "[Epoch 15] Validation accuracy:0.8810. bacc:0.8070. Loss:1.079\n",
            "best_acc:0.882\n",
            "[Epoch 16] Training accuracy: 0.9530. Loss: 0.881. LR 0.000100\n",
            "[Epoch 16] Validation accuracy:0.8814. bacc:0.8065. Loss:1.075\n",
            "best_acc:0.882\n",
            "[Epoch 17] Training accuracy: 0.9564. Loss: 0.867. LR 0.000100\n",
            "[Epoch 17] Validation accuracy:0.8833. bacc:0.8048. Loss:1.072\n",
            "best_acc:0.8833\n",
            "[Epoch 18] Training accuracy: 0.9558. Loss: 0.869. LR 0.000100\n",
            "[Epoch 18] Validation accuracy:0.8817. bacc:0.8015. Loss:1.079\n",
            "best_acc:0.8833\n",
            "[Epoch 19] Training accuracy: 0.9599. Loss: 0.855. LR 0.000100\n",
            "[Epoch 19] Validation accuracy:0.8869. bacc:0.8076. Loss:1.073\n",
            "best_acc:0.8869\n",
            "[Epoch 20] Training accuracy: 0.9611. Loss: 0.849. LR 0.000100\n",
            "[Epoch 20] Validation accuracy:0.8846. bacc:0.8107. Loss:1.074\n",
            "best_acc:0.8869\n",
            "[Epoch 21] Training accuracy: 0.9626. Loss: 0.842. LR 0.000010\n",
            "[Epoch 21] Validation accuracy:0.8859. bacc:0.8121. Loss:1.073\n",
            "best_acc:0.8869\n",
            "[Epoch 22] Training accuracy: 0.9627. Loss: 0.842. LR 0.000010\n",
            "[Epoch 22] Validation accuracy:0.8840. bacc:0.8092. Loss:1.074\n",
            "best_acc:0.8869\n",
            "[Epoch 23] Training accuracy: 0.9639. Loss: 0.842. LR 0.000010\n",
            "[Epoch 23] Validation accuracy:0.8849. bacc:0.8109. Loss:1.073\n",
            "best_acc:0.8869\n",
            "[Epoch 24] Training accuracy: 0.9628. Loss: 0.837. LR 0.000010\n",
            "[Epoch 24] Validation accuracy:0.8843. bacc:0.8067. Loss:1.069\n",
            "best_acc:0.8869\n",
            "[Epoch 25] Training accuracy: 0.9650. Loss: 0.839. LR 0.000010\n",
            "[Epoch 25] Validation accuracy:0.8859. bacc:0.8081. Loss:1.069\n",
            "best_acc:0.8869\n",
            "[Epoch 26] Training accuracy: 0.9616. Loss: 0.843. LR 0.000010\n",
            "[Epoch 26] Validation accuracy:0.8823. bacc:0.8072. Loss:1.074\n",
            "best_acc:0.8869\n",
            "[Epoch 27] Training accuracy: 0.9628. Loss: 0.837. LR 0.000010\n",
            "[Epoch 27] Validation accuracy:0.8836. bacc:0.8095. Loss:1.072\n",
            "best_acc:0.8869\n",
            "[Epoch 28] Training accuracy: 0.9653. Loss: 0.838. LR 0.000010\n",
            "[Epoch 28] Validation accuracy:0.8833. bacc:0.8117. Loss:1.072\n",
            "best_acc:0.8869\n",
            "[Epoch 29] Training accuracy: 0.9639. Loss: 0.836. LR 0.000010\n",
            "[Epoch 29] Validation accuracy:0.8836. bacc:0.8114. Loss:1.078\n",
            "best_acc:0.8869\n",
            "[Epoch 30] Training accuracy: 0.9648. Loss: 0.836. LR 0.000010\n",
            "[Epoch 30] Validation accuracy:0.8833. bacc:0.8119. Loss:1.074\n",
            "best_acc:0.8869\n",
            "[Epoch 31] Training accuracy: 0.9615. Loss: 0.844. LR 0.000001\n",
            "[Epoch 31] Validation accuracy:0.8869. bacc:0.8143. Loss:1.071\n",
            "best_acc:0.8869\n",
            "[Epoch 32] Training accuracy: 0.9619. Loss: 0.837. LR 0.000001\n",
            "[Epoch 32] Validation accuracy:0.8875. bacc:0.8124. Loss:1.069\n",
            "best_acc:0.8875\n",
            "[Epoch 33] Training accuracy: 0.9632. Loss: 0.842. LR 0.000001\n",
            "[Epoch 33] Validation accuracy:0.8843. bacc:0.8086. Loss:1.070\n",
            "best_acc:0.8875\n",
            "[Epoch 34] Training accuracy: 0.9622. Loss: 0.834. LR 0.000001\n",
            "[Epoch 34] Validation accuracy:0.8823. bacc:0.8099. Loss:1.076\n",
            "best_acc:0.8875\n",
            "[Epoch 35] Training accuracy: 0.9640. Loss: 0.837. LR 0.000001\n",
            "[Epoch 35] Validation accuracy:0.8830. bacc:0.8114. Loss:1.074\n",
            "best_acc:0.8875\n",
            "[Epoch 36] Training accuracy: 0.9628. Loss: 0.843. LR 0.000001\n",
            "[Epoch 36] Validation accuracy:0.8827. bacc:0.8071. Loss:1.072\n",
            "best_acc:0.8875\n",
            "[Epoch 37] Training accuracy: 0.9633. Loss: 0.835. LR 0.000001\n",
            "[Epoch 37] Validation accuracy:0.8846. bacc:0.8077. Loss:1.068\n",
            "best_acc:0.8875\n",
            "[Epoch 38] Training accuracy: 0.9617. Loss: 0.841. LR 0.000001\n",
            "[Epoch 38] Validation accuracy:0.8843. bacc:0.8091. Loss:1.070\n",
            "best_acc:0.8875\n",
            "[Epoch 39] Training accuracy: 0.9625. Loss: 0.842. LR 0.000001\n",
            "[Epoch 39] Validation accuracy:0.8836. bacc:0.8063. Loss:1.071\n",
            "best_acc:0.8875\n",
            "[Epoch 40] Training accuracy: 0.9633. Loss: 0.842. LR 0.000001\n",
            "[Epoch 40] Validation accuracy:0.8830. bacc:0.8080. Loss:1.069\n",
            "best_acc:0.8875\n",
            "100% 40/40 [2:12:40<00:00, 199.00s/it]\n"
          ]
        }
      ],
      "source": [
        "!CUDA_VISIBLE_DEVICES=0 python rafdb.py"
      ]
    }
  ],
  "metadata": {
    "accelerator": "GPU",
    "colab": {
      "provenance": [],
      "authorship_tag": "ABX9TyNb5AW6zPSVgV2u6qAVRxy6",
      "include_colab_link": true
    },
    "gpuClass": "standard",
    "kernelspec": {
      "display_name": "Python 3",
      "name": "python3"
    },
    "language_info": {
      "name": "python"
    }
  },
  "nbformat": 4,
  "nbformat_minor": 0
}